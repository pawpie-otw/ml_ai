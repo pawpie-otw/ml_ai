{
 "cells": [
  {
   "cell_type": "code",
   "execution_count": null,
   "metadata": {},
   "outputs": [],
   "source": [
    "import matplotlib.pyplot as plt\n",
    "import numpy as np\n",
    "from PIL import Image\n",
    "from sklearn.cluster import KMeans"
   ]
  },
  {
   "cell_type": "markdown",
   "metadata": {},
   "source": [
    "a) Wczytać obraz 'spring.png' (np. za pomocą biblioteki PIL) i potraktować każdy piksel jako pojedynczy punkt o 3 wymiarach."
   ]
  },
  {
   "cell_type": "code",
   "execution_count": null,
   "metadata": {},
   "outputs": [],
   "source": [
    "img = Image.open('spring.png')\n",
    "img"
   ]
  },
  {
   "cell_type": "code",
   "execution_count": null,
   "metadata": {},
   "outputs": [],
   "source": [
    "# przetworzenie zdjęcia na dane akceptowalne przez kolejne metody\n",
    "X = np.array(img.getdata())"
   ]
  },
  {
   "cell_type": "markdown",
   "metadata": {},
   "source": [
    "b) (3 pkt) Dokonać klasteryzacji metodą k-średnich i wybrać do ostatecznego podziału jako liczbę k najmniejszą z liczb, dla której wartość inercji jest mniejsza niż $ 3 \\cdot 10^{8} $."
   ]
  },
  {
   "cell_type": "code",
   "execution_count": null,
   "metadata": {},
   "outputs": [],
   "source": [
    "i=2\n",
    "inertia_list=[]\n",
    "while True:\n",
    "    print(f'processing for {i} clusters...')\n",
    "    kmeans=KMeans(n_clusters=i, init='k-means++', random_state=1, max_iter=100).fit(X)\n",
    "    inertia_list.append(kmeans.inertia_)\n",
    "    if kmeans.inertia_ < 3 * 10** 8:\n",
    "        print(f'{i} clusters meets the assumption inertia < 3 * 10** 8')\n",
    "        break\n",
    "    i+=1"
   ]
  },
  {
   "cell_type": "markdown",
   "metadata": {},
   "source": [
    "c) (1 pkt) Współrzędne wszystkich uzyskanych centroidów zaokrąglić do najbliższej liczby całkowitej."
   ]
  },
  {
   "cell_type": "code",
   "execution_count": null,
   "metadata": {
    "tags": []
   },
   "outputs": [],
   "source": [
    "kmeans.cluster_centers_ = np.around(kmeans.cluster_centers_)\n",
    "kmeans.cluster_centers_"
   ]
  },
  {
   "cell_type": "markdown",
   "metadata": {},
   "source": [
    "d) (1 pkt) Dla grupowania na tak ustalone k klastrów dokonać przypisania każdemu pikselowi jego zaokrąglonej wartości środka ciężkości."
   ]
  },
  {
   "cell_type": "code",
   "execution_count": null,
   "metadata": {},
   "outputs": [],
   "source": [
    "# etykiety przynależności do grupy\n",
    "kmeans.labels_\n",
    "\n",
    "# kolory, centra \n",
    "kmeans.cluster_centers_\n",
    "\n",
    "# podmiana etykiet na odpowiednie wartości\n",
    "pixels_to_img = np.array([kmeans.cluster_centers_[pixel] \n",
    "                            for pixel in kmeans.labels_])"
   ]
  },
  {
   "cell_type": "markdown",
   "metadata": {},
   "source": [
    "e) (1 pkt) Tak utworzony obraz zapisać w pliku .png i dołączyć go do rozwiązania."
   ]
  },
  {
   "cell_type": "code",
   "execution_count": null,
   "metadata": {},
   "outputs": [],
   "source": [
    "# wczytanie obrazu z tablicy po odpowiednim jej przekształceniu\n",
    "img_kmeans = Image.fromarray(np.uint8(\n",
    "    pixels_to_img.reshape(*img.size[::-1], -1)\n",
    "    ))\n",
    "\n",
    "# zapis do pliku\n",
    "img_kmeans.save('spring_compressed.png')\n",
    "img_kmeans"
   ]
  },
  {
   "cell_type": "markdown",
   "metadata": {},
   "source": [
    "f) (2 pkt) Przy pomocy analizy składowych głównych (PCA) dokonać redukcji wymiarowości oryginalnego obrazu 'spring.png' do 2 najważniejszych składowych głównych. Wypisać łączny procent wyjaśnionej przez nie wariancji."
   ]
  },
  {
   "cell_type": "code",
   "execution_count": null,
   "metadata": {},
   "outputs": [],
   "source": [
    "from sklearn.decomposition import PCA\n",
    "\n",
    "# przygotowanie PCA do redukcji\n",
    "pca = PCA(n_components=2)\n",
    "\n",
    "# redukacja\n",
    "pca.fit(X)\n",
    "\n",
    "print(f\"redukcja z 3 do 2 zmiennych zapewniła dokładność na poziomie {sum(pca.explained_variance_ratio_* 100.0):.1f}%.\")"
   ]
  },
  {
   "cell_type": "markdown",
   "metadata": {},
   "source": [
    "g) (2 pkt) Wykonać wykres punktowy obrazu po transformacji PCA na 2 składowe. Kolor danego punktu na wykresie ma odpowiadać jego przyporządkowaniu przez wcześniej wykonane grupowanie metodą k-średnich. Utworzyć legendę, która będzie przypisywała danemu kolorowi z wykresu kolor z przyporządkowania metodą k-średnich (np. kolor niebieski to klaster 1 z metody k-średnich, kolor zielony to klaster 2 z metody k-średnich, itd.). Do legendy użyć mapy kolorów, która pozwoli na ich czytelne odróżnienie, np. ‘Paired’, tj. dodać argument cmap=plt.get_cmap(‘Paired’). Legenda nie ma zasłaniać wyświetlanych punktów."
   ]
  },
  {
   "cell_type": "code",
   "execution_count": null,
   "metadata": {},
   "outputs": [],
   "source": [
    "plt.figure(figsize=(10, 7.5))\n",
    "plt.title('PCA: components = 2')\n",
    "plt.xlabel('com 1')\n",
    "plt.ylabel('com 2')\n",
    "\n",
    "# wyciągnięcie danych \n",
    "cent_s = kmeans.cluster_centers_\n",
    "lab_s = kmeans.labels_\n",
    "pca_img = pca.fit_transform(X)\n",
    "\n",
    "# utworzenie color map\n",
    "cmap = plt.get_cmap('inferno')\n",
    "colors = [cmap(i/kmeans.n_clusters) \n",
    "        for i in range(kmeans.n_clusters)]\n",
    "\n",
    "\n",
    "for i, cent in enumerate(cent_s):\n",
    "    # wybór indexów z itą etykietą\n",
    "    index = np.where(lab_s == i)\n",
    "    # wykres punktowy dla i'tej etykiety\n",
    "    plt.scatter(pca_img[index, 0], pca_img[index, 1],\n",
    "    color = colors[i], label=f'nr {i+1}',\n",
    "    marker='.')\n",
    "\n",
    "plt.legend(title='clusters')\n",
    "plt.show()"
   ]
  },
  {
   "cell_type": "code",
   "execution_count": null,
   "metadata": {},
   "outputs": [],
   "source": []
  }
 ],
 "metadata": {
  "kernelspec": {
   "display_name": "Python 3",
   "language": "python",
   "name": "python3"
  },
  "language_info": {
   "codemirror_mode": {
    "name": "ipython",
    "version": 3
   },
   "file_extension": ".py",
   "mimetype": "text/x-python",
   "name": "python",
   "nbconvert_exporter": "python",
   "pygments_lexer": "ipython3",
   "version": "3.8.5"
  },
  "metadata": {
   "interpreter": {
    "hash": "b75bb9332ace4e2b4e54a4f701000235fb52d817aab6909422f60e958f56388a"
   }
  }
 },
 "nbformat": 4,
 "nbformat_minor": 2
}
